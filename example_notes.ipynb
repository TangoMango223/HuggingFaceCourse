{
 "cells": [
  {
   "cell_type": "markdown",
   "metadata": {},
   "source": [
    "# Section 1: What is Hugging Face?"
   ]
  },
  {
   "cell_type": "markdown",
   "metadata": {},
   "source": [
    "## What is Hugging Face?\n",
    "\n",
    "* American company\n",
    "* Collaboration community\n",
    "* What they have: models, datasets, posts, docs, libraries and tools, etc.\n",
    "* HF also has their own Command Line Interface tools to handle large files.\n",
    "\n",
    "* Spaces - some models not well documented\n",
    "* Pretrained models\n",
    "\n",
    "* Datasets - text, audio, etc. for training purposes\n",
    "\n",
    "### Accessibility\n",
    "* Request permission to access them, like Facebook Models - Gated Model, like voice cloning models\n",
    "* Spaces - allow people with your git to connect it to hardware compute resources, allowing people to use your ML applications.\n",
    "* Open-source Git repo, NOT GIT HUB!\n",
    "* Often used to share demos with ML Community using open-source tools, like Gradio.\n",
    "\n",
    "### Process:\n",
    "* Data cleaning, model picking, inference\n",
    "\n",
    "### Space example:\n",
    "* Convert input image into a 3d model, cool.\n",
    "\n",
    "### Documentations:\n",
    "* Open source documentation, like diffusers, gradio, accelerate, more, transformers\n",
    "* Works with HF hosted model\n",
    "* Pass it using transformers library, URL, compatible\n",
    "* Open Source libraries!\n",
    "* Most of them are created to help ML Developers\n",
    "* Organization for HF - github - if you want the official documentation - hugging face website, then the functions and code is on Github for Hugging Face.\n",
    "\n",
    "### Common Models and Terms:\n",
    "* Transformers - Pre-trained Transformers models, often LLM or Text Models\n",
    "* Diffusers - diffusion, VAE, encoders, etc. Text to Image Models\n",
    "* Gradio - develop GUI to visually present something.\n",
    "\n",
    "\n",
    "### Community:\n",
    "* Lots of Community!\n"
   ]
  },
  {
   "cell_type": "code",
   "execution_count": null,
   "metadata": {
    "vscode": {
     "languageId": "plaintext"
    }
   },
   "outputs": [],
   "source": []
  }
 ],
 "metadata": {
  "language_info": {
   "name": "python"
  }
 },
 "nbformat": 4,
 "nbformat_minor": 2
}
