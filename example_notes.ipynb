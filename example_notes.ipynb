{
 "cells": [
  {
   "cell_type": "markdown",
   "metadata": {},
   "source": [
    "# What is Hugging Face?\n",
    "\n",
    "* American company\n",
    "* Collaboration community\n",
    "* What they have: models, datasets, posts, docs, libraries and tools, etc.\n",
    "* HF also has their own Command Line Interface tools to handle large files.\n",
    "* "
   ]
  }
 ],
 "metadata": {
  "language_info": {
   "name": "python"
  }
 },
 "nbformat": 4,
 "nbformat_minor": 2
}
